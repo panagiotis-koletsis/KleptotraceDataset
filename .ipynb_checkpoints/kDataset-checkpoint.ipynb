{
 "cells": [
  {
   "metadata": {
    "ExecuteTime": {
     "end_time": "2024-06-05T13:11:56.331496Z",
     "start_time": "2024-06-05T13:11:56.009371Z"
    }
   },
   "cell_type": "code",
   "source": [
    "from langchain_community.llms.ollama import Ollama\n",
    "from langchain.prompts import ChatPromptTemplate\n",
    "import pandas as pd"
   ],
   "id": "849a2dbe04d37968",
   "outputs": [],
   "execution_count": 38
  },
  {
   "metadata": {
    "ExecuteTime": {
     "end_time": "2024-06-05T12:41:50.449491Z",
     "start_time": "2024-06-05T12:41:50.446616Z"
    }
   },
   "cell_type": "code",
   "source": [
    "import json\n",
    "with open('/home/kpanag/Downloads/Kleptotrace Dataset.json') as f:\n",
    "    j=json.load(f)"
   ],
   "id": "68d91fb8fd41aee1",
   "outputs": [],
   "execution_count": 15
  },
  {
   "metadata": {
    "ExecuteTime": {
     "end_time": "2024-06-05T12:49:46.578387Z",
     "start_time": "2024-06-05T12:49:46.576335Z"
    }
   },
   "cell_type": "code",
   "source": [
    "for i in range(len(j['dataset'])):\n",
    "    print(j['dataset'][i]['article_id'])"
   ],
   "id": "initial_id",
   "outputs": [
    {
     "name": "stdout",
     "output_type": "stream",
     "text": [
      "1\n",
      "2\n",
      "3\n",
      "4\n",
      "5\n",
      "6\n",
      "7\n",
      "8\n",
      "9\n",
      "10\n",
      "11\n",
      "12\n",
      "13\n",
      "14\n",
      "15\n"
     ]
    }
   ],
   "execution_count": 27
  },
  {
   "metadata": {
    "ExecuteTime": {
     "end_time": "2024-06-05T13:05:49.872711Z",
     "start_time": "2024-06-05T13:05:49.870079Z"
    }
   },
   "cell_type": "code",
   "source": [
    "j['dataset'][5]['name_entities']\n",
    "#[item[\"title\"] for item in j['dataset']]"
   ],
   "id": "50ea48b7b3775f1c",
   "outputs": [
    {
     "data": {
      "text/plain": [
       "['Isabel dos Santos', 'Hélder Pitta Grós']"
      ]
     },
     "execution_count": 32,
     "metadata": {},
     "output_type": "execute_result"
    }
   ],
   "execution_count": 32
  },
  {
   "metadata": {
    "ExecuteTime": {
     "end_time": "2024-06-05T13:05:54.864458Z",
     "start_time": "2024-06-05T13:05:54.861785Z"
    }
   },
   "cell_type": "code",
   "source": "j['dataset'][5]['text']",
   "id": "b906949a3b6092c9",
   "outputs": [
    {
     "data": {
      "text/plain": [
       "'Isabel dos Santos, Africa’s richest woman and the daughter of Angola’s former president, is set to be charged with committing crimes to enrich herself, after an investigation into embezzlement of millions of dollars from a state oil company she once headed, Angolan officials said.\\nAngola’s attorney general, Hélder Pitta Grós, said on late Wednesday that Ms. dos Santos would be charged with “money laundering, influence peddling, harmful management” and “forgery of documents, among other economic crimes” committed when she ran the oil company.\\n“I can say that from the investigation we conducted, we will now move to criminal charges,” Mr. Pitta Grós said, speaking at a news conference in Luanda, the country’s capital.\\n'"
      ]
     },
     "execution_count": 33,
     "metadata": {},
     "output_type": "execute_result"
    }
   ],
   "execution_count": 33
  },
  {
   "metadata": {
    "ExecuteTime": {
     "end_time": "2024-06-05T13:34:49.571439Z",
     "start_time": "2024-06-05T13:34:49.569348Z"
    }
   },
   "cell_type": "code",
   "source": [
    "PROMPT_TEMPLATE = \"\"\"\n",
    "You are an extremely careful and powerful name entity recognition agent, specialized on people-individuals-person!\n",
    "your task is to extract all the people mentioned in the text even if they are not important! You need to do it twice in order to have extract as many\n",
    "as possible.At the end you will provide a JSON list containing all the mentioned people ONLY THEIR NAMES. \n",
    " example ['John Doe','Maria Smith']\n",
    "Your final answer should be the list you concluded its correct!\n",
    "KEEP ONLY THE TEXT BETWEEN []\n",
    "---\n",
    "\n",
    "{context}\n",
    "\n",
    "---\n",
    "\n",
    "\"\"\""
   ],
   "id": "f099c0d6e2233986",
   "outputs": [],
   "execution_count": 72
  },
  {
   "metadata": {
    "ExecuteTime": {
     "end_time": "2024-06-05T13:34:52.276051Z",
     "start_time": "2024-06-05T13:34:52.274163Z"
    }
   },
   "cell_type": "code",
   "source": [
    " prompt_template = ChatPromptTemplate.from_template(PROMPT_TEMPLATE)\n",
    " prompt = prompt_template.format(context=j['dataset'][5]['text'])"
   ],
   "id": "43311ba4c6d34c34",
   "outputs": [],
   "execution_count": 73
  },
  {
   "metadata": {
    "ExecuteTime": {
     "end_time": "2024-06-05T13:34:53.812835Z",
     "start_time": "2024-06-05T13:34:53.810688Z"
    }
   },
   "cell_type": "code",
   "source": "print(prompt)",
   "id": "c6175cda73ba3922",
   "outputs": [
    {
     "name": "stdout",
     "output_type": "stream",
     "text": [
      "Human: \n",
      "You are an extremely careful and powerful name entity recognition agent, specialized on people-individuals-person!\n",
      "your task is to extract all the people mentioned in the text even if they are not important! You need to do it twice in order to have extract as many\n",
      "as possible.At the end you will provide a JSON list containing all the mentioned people ONLY THEIR NAMES. \n",
      " example ['John Doe','Maria Smith']\n",
      "Your final answer should be the list you concluded its correct!\n",
      "KEEP ONLY THE TEXT BETWEEN []\n",
      "---\n",
      "\n",
      "Isabel dos Santos, Africa’s richest woman and the daughter of Angola’s former president, is set to be charged with committing crimes to enrich herself, after an investigation into embezzlement of millions of dollars from a state oil company she once headed, Angolan officials said.\n",
      "Angola’s attorney general, Hélder Pitta Grós, said on late Wednesday that Ms. dos Santos would be charged with “money laundering, influence peddling, harmful management” and “forgery of documents, among other economic crimes” committed when she ran the oil company.\n",
      "“I can say that from the investigation we conducted, we will now move to criminal charges,” Mr. Pitta Grós said, speaking at a news conference in Luanda, the country’s capital.\n",
      "\n",
      "\n",
      "---\n",
      "\n",
      "\n"
     ]
    }
   ],
   "execution_count": 74
  },
  {
   "metadata": {
    "ExecuteTime": {
     "end_time": "2024-06-05T13:34:55.827477Z",
     "start_time": "2024-06-05T13:34:55.281924Z"
    }
   },
   "cell_type": "code",
   "source": [
    "model = Ollama(model=\"llama3:8b\")\n",
    "response_text = model.invoke(prompt)"
   ],
   "id": "36b22c44dfe3804e",
   "outputs": [],
   "execution_count": 75
  },
  {
   "metadata": {
    "ExecuteTime": {
     "end_time": "2024-06-05T13:34:57.628626Z",
     "start_time": "2024-06-05T13:34:57.626213Z"
    }
   },
   "cell_type": "code",
   "source": "print(response_text)",
   "id": "ffa8ecf07b8253a3",
   "outputs": [
    {
     "name": "stdout",
     "output_type": "stream",
     "text": [
      "[\n",
      "\"Isabel dos Santos\",\n",
      "\"Hélder Pitta Grós\"\n",
      "]\n"
     ]
    }
   ],
   "execution_count": 76
  },
  {
   "metadata": {
    "ExecuteTime": {
     "end_time": "2024-06-05T13:53:54.138052Z",
     "start_time": "2024-06-05T13:53:54.089966Z"
    }
   },
   "cell_type": "code",
   "source": [
    "import json\n",
    "\n",
    "names_list = json.loads(response_text)\n",
    "\n",
    "# Print the list to verify\n",
    "print(names_list)\n"
   ],
   "id": "67d2e0b2a1419b25",
   "outputs": [
    {
     "ename": "JSONDecodeError",
     "evalue": "Expecting value: line 4 column 1 (char 44)",
     "output_type": "error",
     "traceback": [
      "\u001B[0;31m---------------------------------------------------------------------------\u001B[0m",
      "\u001B[0;31mJSONDecodeError\u001B[0m                           Traceback (most recent call last)",
      "Cell \u001B[0;32mIn[82], line 3\u001B[0m\n\u001B[1;32m      1\u001B[0m \u001B[38;5;28;01mimport\u001B[39;00m \u001B[38;5;21;01mjson\u001B[39;00m\n\u001B[0;32m----> 3\u001B[0m names_list \u001B[38;5;241m=\u001B[39m \u001B[43mjson\u001B[49m\u001B[38;5;241;43m.\u001B[39;49m\u001B[43mloads\u001B[49m\u001B[43m(\u001B[49m\u001B[43mresponse_text\u001B[49m\u001B[43m)\u001B[49m\n\u001B[1;32m      5\u001B[0m \u001B[38;5;66;03m# Print the list to verify\u001B[39;00m\n\u001B[1;32m      6\u001B[0m \u001B[38;5;28mprint\u001B[39m(names_list)\n",
      "File \u001B[0;32m/usr/lib/python3.9/json/__init__.py:346\u001B[0m, in \u001B[0;36mloads\u001B[0;34m(s, cls, object_hook, parse_float, parse_int, parse_constant, object_pairs_hook, **kw)\u001B[0m\n\u001B[1;32m    341\u001B[0m     s \u001B[38;5;241m=\u001B[39m s\u001B[38;5;241m.\u001B[39mdecode(detect_encoding(s), \u001B[38;5;124m'\u001B[39m\u001B[38;5;124msurrogatepass\u001B[39m\u001B[38;5;124m'\u001B[39m)\n\u001B[1;32m    343\u001B[0m \u001B[38;5;28;01mif\u001B[39;00m (\u001B[38;5;28mcls\u001B[39m \u001B[38;5;129;01mis\u001B[39;00m \u001B[38;5;28;01mNone\u001B[39;00m \u001B[38;5;129;01mand\u001B[39;00m object_hook \u001B[38;5;129;01mis\u001B[39;00m \u001B[38;5;28;01mNone\u001B[39;00m \u001B[38;5;129;01mand\u001B[39;00m\n\u001B[1;32m    344\u001B[0m         parse_int \u001B[38;5;129;01mis\u001B[39;00m \u001B[38;5;28;01mNone\u001B[39;00m \u001B[38;5;129;01mand\u001B[39;00m parse_float \u001B[38;5;129;01mis\u001B[39;00m \u001B[38;5;28;01mNone\u001B[39;00m \u001B[38;5;129;01mand\u001B[39;00m\n\u001B[1;32m    345\u001B[0m         parse_constant \u001B[38;5;129;01mis\u001B[39;00m \u001B[38;5;28;01mNone\u001B[39;00m \u001B[38;5;129;01mand\u001B[39;00m object_pairs_hook \u001B[38;5;129;01mis\u001B[39;00m \u001B[38;5;28;01mNone\u001B[39;00m \u001B[38;5;129;01mand\u001B[39;00m \u001B[38;5;129;01mnot\u001B[39;00m kw):\n\u001B[0;32m--> 346\u001B[0m     \u001B[38;5;28;01mreturn\u001B[39;00m \u001B[43m_default_decoder\u001B[49m\u001B[38;5;241;43m.\u001B[39;49m\u001B[43mdecode\u001B[49m\u001B[43m(\u001B[49m\u001B[43ms\u001B[49m\u001B[43m)\u001B[49m\n\u001B[1;32m    347\u001B[0m \u001B[38;5;28;01mif\u001B[39;00m \u001B[38;5;28mcls\u001B[39m \u001B[38;5;129;01mis\u001B[39;00m \u001B[38;5;28;01mNone\u001B[39;00m:\n\u001B[1;32m    348\u001B[0m     \u001B[38;5;28mcls\u001B[39m \u001B[38;5;241m=\u001B[39m JSONDecoder\n",
      "File \u001B[0;32m/usr/lib/python3.9/json/decoder.py:337\u001B[0m, in \u001B[0;36mJSONDecoder.decode\u001B[0;34m(self, s, _w)\u001B[0m\n\u001B[1;32m    332\u001B[0m \u001B[38;5;28;01mdef\u001B[39;00m \u001B[38;5;21mdecode\u001B[39m(\u001B[38;5;28mself\u001B[39m, s, _w\u001B[38;5;241m=\u001B[39mWHITESPACE\u001B[38;5;241m.\u001B[39mmatch):\n\u001B[1;32m    333\u001B[0m \u001B[38;5;250m    \u001B[39m\u001B[38;5;124;03m\"\"\"Return the Python representation of ``s`` (a ``str`` instance\u001B[39;00m\n\u001B[1;32m    334\u001B[0m \u001B[38;5;124;03m    containing a JSON document).\u001B[39;00m\n\u001B[1;32m    335\u001B[0m \n\u001B[1;32m    336\u001B[0m \u001B[38;5;124;03m    \"\"\"\u001B[39;00m\n\u001B[0;32m--> 337\u001B[0m     obj, end \u001B[38;5;241m=\u001B[39m \u001B[38;5;28;43mself\u001B[39;49m\u001B[38;5;241;43m.\u001B[39;49m\u001B[43mraw_decode\u001B[49m\u001B[43m(\u001B[49m\u001B[43ms\u001B[49m\u001B[43m,\u001B[49m\u001B[43m \u001B[49m\u001B[43midx\u001B[49m\u001B[38;5;241;43m=\u001B[39;49m\u001B[43m_w\u001B[49m\u001B[43m(\u001B[49m\u001B[43ms\u001B[49m\u001B[43m,\u001B[49m\u001B[43m \u001B[49m\u001B[38;5;241;43m0\u001B[39;49m\u001B[43m)\u001B[49m\u001B[38;5;241;43m.\u001B[39;49m\u001B[43mend\u001B[49m\u001B[43m(\u001B[49m\u001B[43m)\u001B[49m\u001B[43m)\u001B[49m\n\u001B[1;32m    338\u001B[0m     end \u001B[38;5;241m=\u001B[39m _w(s, end)\u001B[38;5;241m.\u001B[39mend()\n\u001B[1;32m    339\u001B[0m     \u001B[38;5;28;01mif\u001B[39;00m end \u001B[38;5;241m!=\u001B[39m \u001B[38;5;28mlen\u001B[39m(s):\n",
      "File \u001B[0;32m/usr/lib/python3.9/json/decoder.py:355\u001B[0m, in \u001B[0;36mJSONDecoder.raw_decode\u001B[0;34m(self, s, idx)\u001B[0m\n\u001B[1;32m    353\u001B[0m     obj, end \u001B[38;5;241m=\u001B[39m \u001B[38;5;28mself\u001B[39m\u001B[38;5;241m.\u001B[39mscan_once(s, idx)\n\u001B[1;32m    354\u001B[0m \u001B[38;5;28;01mexcept\u001B[39;00m \u001B[38;5;167;01mStopIteration\u001B[39;00m \u001B[38;5;28;01mas\u001B[39;00m err:\n\u001B[0;32m--> 355\u001B[0m     \u001B[38;5;28;01mraise\u001B[39;00m JSONDecodeError(\u001B[38;5;124m\"\u001B[39m\u001B[38;5;124mExpecting value\u001B[39m\u001B[38;5;124m\"\u001B[39m, s, err\u001B[38;5;241m.\u001B[39mvalue) \u001B[38;5;28;01mfrom\u001B[39;00m \u001B[38;5;28;01mNone\u001B[39;00m\n\u001B[1;32m    356\u001B[0m \u001B[38;5;28;01mreturn\u001B[39;00m obj, end\n",
      "\u001B[0;31mJSONDecodeError\u001B[0m: Expecting value: line 4 column 1 (char 44)"
     ]
    }
   ],
   "execution_count": 82
  },
  {
   "metadata": {
    "ExecuteTime": {
     "end_time": "2024-06-05T14:39:06.134615Z",
     "start_time": "2024-06-05T14:39:06.132506Z"
    }
   },
   "cell_type": "code",
   "source": [
    "text =\"\"\"After analyzing the text, I extracted the following people mentioned:\n",
    "\n",
    "\n",
    "    John C. Demers\n",
    "\n",
    "    Matthew Schneider\n",
    "\n",
    "    Vance R. Callender\n",
    "\n",
    "    Dan Clutch\n",
    "\n",
    "    Arash Yousefi Jam (also known as Arash Yousefijam)\n",
    "\n",
    "    Amin Yousefi Jam (also known as Amin Yousefijam)\n",
    "\n",
    "    Abdollah Momeni Roustani (also known as Abdollah Momeni, Ab Momeni, and Amir Amiri)\n",
    "\n",
    "    Hank Moon\n",
    "\n",
    "    Adam Barry\n",
    "\n",
    "\n",
    "Here is the JSON list containing only their names:\n",
    "\n",
    "[\n",
    "\"John C. Demers\",\n",
    "\"Matthew Schneider\",\n",
    "\"Vance R. Callender\",\n",
    "\"Dan Clutch\",\n",
    "\"Arash Yousefi Jam\",\n",
    "\"Amin Yousefi Jam\",\n",
    "\"Abdollah Momeni Roustani\",\n",
    "\"Hank Moon\",\n",
    "\"Adam Barry\"\n",
    "] \"\"\""
   ],
   "id": "470fb3ec187d0519",
   "outputs": [],
   "execution_count": 83
  },
  {
   "metadata": {},
   "cell_type": "code",
   "outputs": [],
   "execution_count": null,
   "source": "",
   "id": "9333f8f0755edba0"
  },
  {
   "metadata": {
    "ExecuteTime": {
     "end_time": "2024-06-05T14:39:13.920118Z",
     "start_time": "2024-06-05T14:39:13.917783Z"
    }
   },
   "cell_type": "code",
   "source": [
    "start_index = text.find('[')\n",
    "end_index = text.find(']') + 1\n",
    "\n",
    "# Extract the JSON list as a substring\n",
    "json_list_str = text[start_index:end_index]\n",
    "\n",
    "# Convert the JSON list string to a Python list\n",
    "import json\n",
    "names = json.loads(json_list_str)\n",
    "print(names)"
   ],
   "id": "4187b7c422538925",
   "outputs": [
    {
     "name": "stdout",
     "output_type": "stream",
     "text": [
      "['John C. Demers', 'Matthew Schneider', 'Vance R. Callender', 'Dan Clutch', 'Arash Yousefi Jam', 'Amin Yousefi Jam', 'Abdollah Momeni Roustani', 'Hank Moon', 'Adam Barry']\n"
     ]
    }
   ],
   "execution_count": 84
  },
  {
   "metadata": {
    "ExecuteTime": {
     "end_time": "2024-06-05T14:39:35.378326Z",
     "start_time": "2024-06-05T14:39:35.376046Z"
    }
   },
   "cell_type": "code",
   "source": "names[0]",
   "id": "9bbc98e801d97f84",
   "outputs": [
    {
     "data": {
      "text/plain": [
       "'John C. Demers'"
      ]
     },
     "execution_count": 85,
     "metadata": {},
     "output_type": "execute_result"
    }
   ],
   "execution_count": 85
  },
  {
   "metadata": {},
   "cell_type": "code",
   "outputs": [],
   "execution_count": null,
   "source": "",
   "id": "883926aa8fde00af"
  },
  {
   "metadata": {
    "ExecuteTime": {
     "end_time": "2024-06-05T14:56:07.336220Z",
     "start_time": "2024-06-05T14:56:07.333991Z"
    }
   },
   "cell_type": "code",
   "source": "l2 = [\"test\",\"t2\"]",
   "id": "6e20d6e9857aa4e2",
   "outputs": [],
   "execution_count": 135
  },
  {
   "metadata": {
    "ExecuteTime": {
     "end_time": "2024-06-05T14:56:07.671436Z",
     "start_time": "2024-06-05T14:56:07.669299Z"
    }
   },
   "cell_type": "code",
   "source": [
    "l1=[\n",
    "[\"Adam Barry\",\n",
    "\"Adam Barry2\"\n",
    "]]"
   ],
   "id": "d5388780761ca7d3",
   "outputs": [],
   "execution_count": 136
  },
  {
   "metadata": {
    "ExecuteTime": {
     "end_time": "2024-06-05T14:56:08.304245Z",
     "start_time": "2024-06-05T14:56:08.302268Z"
    }
   },
   "cell_type": "code",
   "source": "l1.append(l2)",
   "id": "6fa1f1245af50230",
   "outputs": [],
   "execution_count": 137
  },
  {
   "metadata": {
    "ExecuteTime": {
     "end_time": "2024-06-05T14:56:17.329902Z",
     "start_time": "2024-06-05T14:56:17.327779Z"
    }
   },
   "cell_type": "code",
   "source": "print(l1[0])",
   "id": "89587b0371ead1eb",
   "outputs": [
    {
     "name": "stdout",
     "output_type": "stream",
     "text": [
      "['Adam Barry', 'Adam Barry2']\n"
     ]
    }
   ],
   "execution_count": 140
  },
  {
   "metadata": {
    "ExecuteTime": {
     "end_time": "2024-06-05T14:47:13.142038Z",
     "start_time": "2024-06-05T14:47:13.139588Z"
    }
   },
   "cell_type": "code",
   "source": "",
   "id": "5fc705c2dbd7c86f",
   "outputs": [
    {
     "data": {
      "text/plain": [
       "'Adam Barry'"
      ]
     },
     "execution_count": 100,
     "metadata": {},
     "output_type": "execute_result"
    }
   ],
   "execution_count": 100
  }
 ],
 "metadata": {
  "kernelspec": {
   "display_name": "Python 3",
   "language": "python",
   "name": "python3"
  },
  "language_info": {
   "codemirror_mode": {
    "name": "ipython",
    "version": 2
   },
   "file_extension": ".py",
   "mimetype": "text/x-python",
   "name": "python",
   "nbconvert_exporter": "python",
   "pygments_lexer": "ipython2",
   "version": "2.7.6"
  }
 },
 "nbformat": 4,
 "nbformat_minor": 5
}
