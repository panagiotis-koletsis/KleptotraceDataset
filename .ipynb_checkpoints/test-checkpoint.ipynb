{
 "cells": [
  {
   "cell_type": "code",
   "execution_count": 7,
   "id": "initial_id",
   "metadata": {
    "ExecuteTime": {
     "end_time": "2024-07-03T09:06:33.976733Z",
     "start_time": "2024-07-03T09:06:33.974635Z"
    }
   },
   "outputs": [
    {
     "name": "stdout",
     "output_type": "stream",
     "text": [
      "List 1: ['CNC Weld', 'BY Trade OU', 'HSI', 'U.S. Department of Commerce', 'FBI', 'Latvian State Revenue Service', 'Estonian Tax and Customs Board', 'Latvian State Police', 'Justice Department', 'Justice Department’s Office of International Affairs', 'National Security Division’s Counterintelligence and Export Control', 'Justice Department’s Task Force KleptoCapture']\n",
      "List 2: ['CNC Weld', 'BY Trade OU', 'HSI', 'Department of Commerce', 'FBI', 'Latvian State Revenue Service', 'Estonian Tax and Customs Board', 'Latvian State Police', 'Justice Department', 'Office of International Affairs', 'National Security Division’s Counterintelligence and Export Control Section', 'Task Force KleptoCapture']\n"
     ]
    }
   ],
   "source": [
    "text = \"\"\"\n",
    "|element from list 2 | elements from list 1|\n",
    "|---|---|\n",
    "|CNC Weld | CNC Weld |\n",
    "|BY Trade OU | BY Trade OU |\n",
    "|HSI | HSI |\n",
    "|Department of Commerce | U.S. Department of Commerce |\n",
    "|FBI | FBI |\n",
    "|Latvian State Revenue Service | Latvian State Revenue Service |\n",
    "|Estonian Tax and Customs Board | Estonian Tax and Customs Board |\n",
    "|Latvian State Police | Latvian State Police |\n",
    "|Justice Department | Justice Department |\n",
    "|Office of International Affairs | Justice Department’s Office of International Affairs |\n",
    "|National Security Division’s Counterintelligence and Export Control Section | National Security Division’s Counterintelligence and Export Control |\n",
    "|Task Force KleptoCapture | Justice Department’s Task Force KleptoCapture | \n",
    "\"\"\"\n",
    "\n",
    "# Split the text into lines and remove the header and delimiter lines\n",
    "lines = text.strip().split('\\n')[2:]\n",
    "\n",
    "# Initialize the lists\n",
    "list1 = []\n",
    "list2 = []\n",
    "\n",
    "# Process each line to extract elements\n",
    "for line in lines:\n",
    "    elements = line.strip('|').split('|')\n",
    "    list2.append(elements[0].strip())\n",
    "    list1.append(elements[1].strip())\n",
    "\n",
    "# Print the resulting lists\n",
    "print(\"List 1:\", list1)\n",
    "print(\"List 2:\", list2)\n"
   ]
  },
  {
   "cell_type": "code",
   "execution_count": 8,
   "id": "0e632818-68e1-439f-b03c-851db9e14de4",
   "metadata": {},
   "outputs": [],
   "source": [
    "listg = ['District of Connecticut', 'CNC Weld', 'BY Trade OU', 'HSI', 'U.S. Department of Commerce', 'European union', 'Export Control Reform Act of 2018', 'Export Administration Regulations', 'Justice Department', 'U.S. Department of Commerce’s Office of Export Enforcement', 'FBI', 'Latvian State Revenue Service', 'Estonian Tax and Customs Board', 'Latvian State Police', 'Justice Department’s Office of International Affairs', 'National Security Division’s Counterintelligence and Export Control', 'Justice Department’s Task Force KleptoCapture', 'Office of the Deputy Attorney General']"
   ]
  },
  {
   "cell_type": "code",
   "execution_count": null,
   "id": "c399f67f-c2a9-455c-8c47-1720585dec53",
   "metadata": {},
   "outputs": [],
   "source": [
    "list1.find()"
   ]
  },
  {
   "cell_type": "code",
   "execution_count": null,
   "id": "229a2090be86aa29",
   "metadata": {},
   "outputs": [],
   "source": [
    "if len(list1) == len(list2):\n",
    "    for i in range len(list1):\n",
    "        "
   ]
  },
  {
   "cell_type": "code",
   "execution_count": 9,
   "id": "8f380f6d-4d59-4a3e-ba20-b2b19f5a2217",
   "metadata": {},
   "outputs": [
    {
     "data": {
      "text/plain": [
       "['CNC Weld',\n",
       " 'BY Trade OU',\n",
       " 'HSI',\n",
       " 'U.S. Department of Commerce',\n",
       " 'FBI',\n",
       " 'Latvian State Revenue Service',\n",
       " 'Estonian Tax and Customs Board',\n",
       " 'Latvian State Police',\n",
       " 'Justice Department',\n",
       " 'Justice Department’s Office of International Affairs',\n",
       " 'National Security Division’s Counterintelligence and Export Control',\n",
       " 'Justice Department’s Task Force KleptoCapture']"
      ]
     },
     "execution_count": 9,
     "metadata": {},
     "output_type": "execute_result"
    }
   ],
   "source": [
    "list1"
   ]
  },
  {
   "cell_type": "code",
   "execution_count": 11,
   "id": "8dc89d11-0078-48ee-80a3-bb83584a1fae",
   "metadata": {},
   "outputs": [
    {
     "data": {
      "text/plain": [
       "['CNC Weld',\n",
       " 'BY Trade OU',\n",
       " 'HSI',\n",
       " 'Department of Commerce',\n",
       " 'FBI',\n",
       " 'Latvian State Revenue Service',\n",
       " 'Estonian Tax and Customs Board',\n",
       " 'Latvian State Police',\n",
       " 'Justice Department',\n",
       " 'Office of International Affairs',\n",
       " 'National Security Division’s Counterintelligence and Export Control Section',\n",
       " 'Task Force KleptoCapture']"
      ]
     },
     "execution_count": 11,
     "metadata": {},
     "output_type": "execute_result"
    }
   ],
   "source": [
    "list2"
   ]
  },
  {
   "cell_type": "code",
   "execution_count": 12,
   "id": "5e1388c0-e93a-4ef4-8d5e-7fb35c6291b5",
   "metadata": {},
   "outputs": [
    {
     "data": {
      "text/plain": [
       "['District of Connecticut',\n",
       " 'CNC Weld',\n",
       " 'BY Trade OU',\n",
       " 'HSI',\n",
       " 'U.S. Department of Commerce',\n",
       " 'European union',\n",
       " 'Export Control Reform Act of 2018',\n",
       " 'Export Administration Regulations',\n",
       " 'Justice Department',\n",
       " 'U.S. Department of Commerce’s Office of Export Enforcement',\n",
       " 'FBI',\n",
       " 'Latvian State Revenue Service',\n",
       " 'Estonian Tax and Customs Board',\n",
       " 'Latvian State Police',\n",
       " 'Justice Department’s Office of International Affairs',\n",
       " 'National Security Division’s Counterintelligence and Export Control',\n",
       " 'Justice Department’s Task Force KleptoCapture',\n",
       " 'Office of the Deputy Attorney General']"
      ]
     },
     "execution_count": 12,
     "metadata": {},
     "output_type": "execute_result"
    }
   ],
   "source": [
    "listg"
   ]
  },
  {
   "cell_type": "code",
   "execution_count": 14,
   "id": "90bf7c71-bad6-4c46-8aa4-93f2f1129b6a",
   "metadata": {},
   "outputs": [
    {
     "name": "stdout",
     "output_type": "stream",
     "text": [
      "['Justice Department', 'Homeland Security Investigations', 'U.S. Immigration and Customs Enforcement', 'Office of Export Enforcement', 'Commerce Department', 'Eastern District of Michigan', 'National Security Division']\n"
     ]
    }
   ],
   "source": [
    "organizations = ['Justice Department ', 'Homeland Security Investigations ', 'U.S. Immigration and Customs Enforcement', 'Office of Export Enforcement', 'Commerce Department', 'Eastern District of Michigan', 'National Security Division']\n",
    "\n",
    "# Use list comprehension to strip trailing spaces from each element in the list\n",
    "organizations = [org.strip() for org in organizations]\n",
    "\n",
    "print(organizations)\n"
   ]
  },
  {
   "cell_type": "code",
   "execution_count": null,
   "id": "7a8f06cf-0e1e-44d3-8cdd-be2a5ceaf57f",
   "metadata": {},
   "outputs": [],
   "source": []
  }
 ],
 "metadata": {
  "kernelspec": {
   "display_name": "Python 3 (ipykernel)",
   "language": "python",
   "name": "python3"
  },
  "language_info": {
   "codemirror_mode": {
    "name": "ipython",
    "version": 3
   },
   "file_extension": ".py",
   "mimetype": "text/x-python",
   "name": "python",
   "nbconvert_exporter": "python",
   "pygments_lexer": "ipython3",
   "version": "3.10.12"
  }
 },
 "nbformat": 4,
 "nbformat_minor": 5
}
