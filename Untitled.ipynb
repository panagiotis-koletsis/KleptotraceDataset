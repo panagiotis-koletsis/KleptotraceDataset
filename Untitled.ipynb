{
 "cells": [
  {
   "cell_type": "code",
   "execution_count": 9,
   "id": "0bc55794-5bcf-4422-a8ae-4ff86d6d9e6e",
   "metadata": {},
   "outputs": [],
   "source": [
    "list1 = [\"International Emergency Economic Powers Act (IEEPA)\",\"test\"]"
   ]
  },
  {
   "cell_type": "code",
   "execution_count": 10,
   "id": "7fa0f18b-1b2c-4673-b6fe-7db527a0c5d8",
   "metadata": {},
   "outputs": [],
   "source": [
    "list2 = [\"International Emergency Economic Powers Act\",\"test\"]"
   ]
  },
  {
   "cell_type": "code",
   "execution_count": 11,
   "id": "8975f59e-886b-4057-a2c3-14cbad7b344a",
   "metadata": {},
   "outputs": [],
   "source": [
    "true_set = set(list1)\n",
    "predicted_set = set(list2)\n",
    "\n",
    "        # Calculate the intersection and union of the two sets\n",
    "intersection = true_set.intersection(predicted_set)\n",
    "union = true_set.union(predicted_set)\n",
    "\n",
    "        # mporoun na ypologistoun kai pio eykola, alla to afinw etsi analytika gia na katalaveis ti einai to kathe set\n",
    "        # des edw: https://en.wikipedia.org/wiki/Precision_and_recall\n",
    "TPs = len(intersection)\n",
    "TPsFPs = len(predicted_set)\n",
    "TPsFPsFNs = len(union)\n",
    "TPsFNs = len(true_set)\n",
    "precision = TPs / TPsFPs\n",
    "recall = TPs / TPsFNs\n",
    "accuracy = (TPs*1.0/TPsFPsFNs)\n",
    "f1 = 2 * (precision * recall) / (precision + recall)"
   ]
  },
  {
   "cell_type": "code",
   "execution_count": 12,
   "id": "2f334016-562e-4224-9a83-d450a87c26f1",
   "metadata": {},
   "outputs": [
    {
     "name": "stdout",
     "output_type": "stream",
     "text": [
      "0.5\n"
     ]
    }
   ],
   "source": [
    "print(precision)"
   ]
  },
  {
   "cell_type": "code",
   "execution_count": 1,
   "id": "b3427f23-31a4-4cc8-a739-7da8cfe108b0",
   "metadata": {},
   "outputs": [
    {
     "name": "stdout",
     "output_type": "stream",
     "text": [
      "Before: International Emergency Economic Powers Act (IEEPA)\n",
      "After: International Emergency Economic Powers Act \n"
     ]
    }
   ],
   "source": [
    "import re\n",
    "\n",
    "def remove_parentheses(text):\n",
    "    # Use a regular expression to find and remove parentheses and the text inside them\n",
    "    return re.sub(r'\\([^)]*\\)', '', text)\n",
    "\n",
    "# Example usage\n",
    "input_text = \"International Emergency Economic Powers Act (IEEPA)\"\n",
    "output_text = remove_parentheses(input_text)\n",
    "print(\"Before:\", input_text)\n",
    "print(\"After:\", output_text)"
   ]
  },
  {
   "cell_type": "code",
   "execution_count": 3,
   "id": "55d0af57-e847-4287-ac03-5fb2ab49598b",
   "metadata": {},
   "outputs": [
    {
     "name": "stdout",
     "output_type": "stream",
     "text": [
      "Defaulting to user installation because normal site-packages is not writeable\n",
      "Requirement already satisfied: langchain_community in /home/kpanag/.local/lib/python3.10/site-packages (0.2.3)\n",
      "Requirement already satisfied: PyYAML>=5.3 in /usr/lib/python3/dist-packages (from langchain_community) (5.4.1)\n",
      "Requirement already satisfied: SQLAlchemy<3,>=1.4 in /home/kpanag/.local/lib/python3.10/site-packages (from langchain_community) (2.0.30)\n",
      "Requirement already satisfied: aiohttp<4.0.0,>=3.8.3 in /home/kpanag/.local/lib/python3.10/site-packages (from langchain_community) (3.9.5)\n",
      "Requirement already satisfied: dataclasses-json<0.7,>=0.5.7 in /home/kpanag/.local/lib/python3.10/site-packages (from langchain_community) (0.6.6)\n",
      "Requirement already satisfied: langchain<0.3.0,>=0.2.0 in /home/kpanag/.local/lib/python3.10/site-packages (from langchain_community) (0.2.2)\n",
      "Requirement already satisfied: langchain-core<0.3.0,>=0.2.0 in /home/kpanag/.local/lib/python3.10/site-packages (from langchain_community) (0.2.4)\n",
      "Requirement already satisfied: langsmith<0.2.0,>=0.1.0 in /home/kpanag/.local/lib/python3.10/site-packages (from langchain_community) (0.1.74)\n",
      "Requirement already satisfied: numpy<2,>=1 in /home/kpanag/.local/lib/python3.10/site-packages (from langchain_community) (1.26.4)\n",
      "Requirement already satisfied: requests<3,>=2 in /home/kpanag/.local/lib/python3.10/site-packages (from langchain_community) (2.31.0)\n",
      "Requirement already satisfied: tenacity<9.0.0,>=8.1.0 in /home/kpanag/.local/lib/python3.10/site-packages (from langchain_community) (8.3.0)\n",
      "Requirement already satisfied: aiosignal>=1.1.2 in /home/kpanag/.local/lib/python3.10/site-packages (from aiohttp<4.0.0,>=3.8.3->langchain_community) (1.3.1)\n",
      "Requirement already satisfied: attrs>=17.3.0 in /home/kpanag/.local/lib/python3.10/site-packages (from aiohttp<4.0.0,>=3.8.3->langchain_community) (23.2.0)\n",
      "Requirement already satisfied: frozenlist>=1.1.1 in /home/kpanag/.local/lib/python3.10/site-packages (from aiohttp<4.0.0,>=3.8.3->langchain_community) (1.4.1)\n",
      "Requirement already satisfied: multidict<7.0,>=4.5 in /home/kpanag/.local/lib/python3.10/site-packages (from aiohttp<4.0.0,>=3.8.3->langchain_community) (6.0.5)\n",
      "Requirement already satisfied: yarl<2.0,>=1.0 in /home/kpanag/.local/lib/python3.10/site-packages (from aiohttp<4.0.0,>=3.8.3->langchain_community) (1.9.4)\n",
      "Requirement already satisfied: async-timeout<5.0,>=4.0 in /home/kpanag/.local/lib/python3.10/site-packages (from aiohttp<4.0.0,>=3.8.3->langchain_community) (4.0.3)\n",
      "Requirement already satisfied: marshmallow<4.0.0,>=3.18.0 in /home/kpanag/.local/lib/python3.10/site-packages (from dataclasses-json<0.7,>=0.5.7->langchain_community) (3.21.3)\n",
      "Requirement already satisfied: typing-inspect<1,>=0.4.0 in /home/kpanag/.local/lib/python3.10/site-packages (from dataclasses-json<0.7,>=0.5.7->langchain_community) (0.9.0)\n",
      "Requirement already satisfied: langchain-text-splitters<0.3.0,>=0.2.0 in /home/kpanag/.local/lib/python3.10/site-packages (from langchain<0.3.0,>=0.2.0->langchain_community) (0.2.1)\n",
      "Requirement already satisfied: pydantic<3,>=1 in /home/kpanag/.local/lib/python3.10/site-packages (from langchain<0.3.0,>=0.2.0->langchain_community) (2.7.3)\n",
      "Requirement already satisfied: jsonpatch<2.0,>=1.33 in /home/kpanag/.local/lib/python3.10/site-packages (from langchain-core<0.3.0,>=0.2.0->langchain_community) (1.33)\n",
      "Requirement already satisfied: packaging<24.0,>=23.2 in /home/kpanag/.local/lib/python3.10/site-packages (from langchain-core<0.3.0,>=0.2.0->langchain_community) (23.2)\n",
      "Requirement already satisfied: orjson<4.0.0,>=3.9.14 in /home/kpanag/.local/lib/python3.10/site-packages (from langsmith<0.2.0,>=0.1.0->langchain_community) (3.10.3)\n",
      "Requirement already satisfied: charset-normalizer<4,>=2 in /home/kpanag/.local/lib/python3.10/site-packages (from requests<3,>=2->langchain_community) (3.3.2)\n",
      "Requirement already satisfied: idna<4,>=2.5 in /usr/lib/python3/dist-packages (from requests<3,>=2->langchain_community) (3.3)\n",
      "Requirement already satisfied: urllib3<3,>=1.21.1 in /usr/lib/python3/dist-packages (from requests<3,>=2->langchain_community) (1.26.5)\n",
      "Requirement already satisfied: certifi>=2017.4.17 in /usr/lib/python3/dist-packages (from requests<3,>=2->langchain_community) (2020.6.20)\n",
      "Requirement already satisfied: typing-extensions>=4.6.0 in /home/kpanag/.local/lib/python3.10/site-packages (from SQLAlchemy<3,>=1.4->langchain_community) (4.10.0)\n",
      "Requirement already satisfied: greenlet!=0.4.17 in /home/kpanag/.local/lib/python3.10/site-packages (from SQLAlchemy<3,>=1.4->langchain_community) (3.0.3)\n",
      "Requirement already satisfied: jsonpointer>=1.9 in /home/kpanag/.local/lib/python3.10/site-packages (from jsonpatch<2.0,>=1.33->langchain-core<0.3.0,>=0.2.0->langchain_community) (2.4)\n",
      "Requirement already satisfied: annotated-types>=0.4.0 in /home/kpanag/.local/lib/python3.10/site-packages (from pydantic<3,>=1->langchain<0.3.0,>=0.2.0->langchain_community) (0.7.0)\n",
      "Requirement already satisfied: pydantic-core==2.18.4 in /home/kpanag/.local/lib/python3.10/site-packages (from pydantic<3,>=1->langchain<0.3.0,>=0.2.0->langchain_community) (2.18.4)\n",
      "Requirement already satisfied: mypy-extensions>=0.3.0 in /home/kpanag/.local/lib/python3.10/site-packages (from typing-inspect<1,>=0.4.0->dataclasses-json<0.7,>=0.5.7->langchain_community) (1.0.0)\n"
     ]
    }
   ],
   "source": [
    "!pip install langchain_community"
   ]
  },
  {
   "cell_type": "code",
   "execution_count": 2,
   "id": "4d42f829-2fed-40bc-9b8d-e8abcf2cd335",
   "metadata": {},
   "outputs": [],
   "source": [
    "from langchain_community.llms.ollama import Ollama"
   ]
  },
  {
   "cell_type": "code",
   "execution_count": 11,
   "id": "535eb8ba-9e68-4557-853c-468165e9fc0f",
   "metadata": {},
   "outputs": [
    {
     "name": "stdout",
     "output_type": "stream",
     "text": [
      "NAME                        \tID          \tSIZE  \tMODIFIED      \n",
      "Fincial-Advisor-model:latest\t833bb60a2c93\t4.7 GB\t10 days ago  \t\n",
      "gemma:7b                    \ta72c7f4d0a15\t5.0 GB\t7 days ago   \t\n",
      "llama2:latest               \t78e26419b446\t3.8 GB\t3 months ago \t\n",
      "llama3:8b                   \t365c0bd3c000\t4.7 GB\t6 days ago   \t\n",
      "mistral:latest              \t2ae6f6dd7a3d\t4.1 GB\t3 weeks ago  \t\n",
      "mixtral:8x7b                \t7708c059a8bb\t26 GB \t2 months ago \t\n",
      "phi3:latest                 \t64c1188f2485\t2.4 GB\t6 days ago   \t\n",
      "phi3:medium                 \t1e67dff39209\t7.9 GB\t3 minutes ago\t\n",
      "qwen2:7b                    \te0d4e1163c58\t4.4 GB\t7 days ago   \t\n",
      "qwen2:latest                \te0d4e1163c58\t4.4 GB\t6 days ago   \t\n",
      "zephyr:latest               \tbbe38b81adec\t4.1 GB\t7 weeks ago  \t\n"
     ]
    }
   ],
   "source": [
    "!ollama list"
   ]
  },
  {
   "cell_type": "code",
   "execution_count": 17,
   "id": "8cebe50a-d073-4fd7-a547-8d2a2ed923a3",
   "metadata": {},
   "outputs": [
    {
     "name": "stdout",
     "output_type": "stream",
     "text": [
      " I am an AI digital assistant designed to provide information, answer questions, and assist with various tasks. How can I help you today?\n"
     ]
    }
   ],
   "source": [
    "model = Ollama(model=\"phi3:latest\")\n",
    "text = \"\"\"Who are you\"\"\"\n",
    "response_text = f\"\"\"{model.invoke(text)}\"\"\"\n",
    "print(response_text)"
   ]
  },
  {
   "cell_type": "code",
   "execution_count": 18,
   "id": "fa60d6b6-47c9-423f-ace6-ea03f231e112",
   "metadata": {},
   "outputs": [
    {
     "name": "stdout",
     "output_type": "stream",
     "text": [
      " I am an AI digital assistant designed to provide information, answer questions, and assist with various tasks. How can I help you today?\n"
     ]
    }
   ],
   "source": [
    "print(response_text)"
   ]
  },
  {
   "cell_type": "code",
   "execution_count": 28,
   "id": "4b418a44-70b3-41f5-a032-2e23e9ecf066",
   "metadata": {},
   "outputs": [],
   "source": [
    "l1 =[['Justice Department', 'International Emergency Economic Powers Act', 'Iranian Transactions and Sanctions Regulations', 'United States Department of Commerce', 'Homeland Security Investigations', 'Office of Export Enforcement', 'Counterintelligence and Export Control Section', 'National Security Division', 'Office of International Affairs'], ['International Emergency Economic Powers Act', 'Iranian Transactions and Sanctions Regulations', 'United States Department of Commerce', 'Homeland Security Investigations', 'Justice Department', 'Eastern District of Michigan'], ['Educational Advancement Alliance', 'FBI', 'Internal Revenue Service-Criminal Investigation', 'Department of Justice', 'NASA Office of Inspector General', 'Department of Commerce’s Office of Inspector General'], ['International Consortium of Investigative Journalists', 'Sonangol', 'Lusa news agency', 'Galp Energia', 'NOS', 'Eurobic', 'Expresso', 'ICIJ', 'Banco de Fomento Angola'], ['Angolas national oil company', 'Chamber of Companies', 'Amsterdam Court of Appeal', 'Exem Energy BV'], ['Angolan officials', 'Angola’s attorney general', 'Angolan oil company'], ['Office of Foreign Assets Control', 'United States Department of the Treasury', 'Global Magnitsky Human Rights Accountability Act', 'National Port Authority', 'United States'], ['National Port Authority', 'Creative Developers Inc', 'US Global Magnitsky sanctions'], ['Liberia Anti-Corruption Commission', 'National Port Authority', 'Creative Developers Inc.', 'Global Tracking Management Service', 'FrontPageAfrica'], ['National Port Authority', 'Creative Developers Inc.', 'Global Tracking Management Service', 'Liberia Anti-Corruption Commission', 'ICC'], ['Department of Justice', 'U.S. Attorneys’ Offices', 'Department’s Task Force KleptoCapture', 'FBI', 'United States', 'Petroleos de Venezuela S.A.', 'Nord-Deutsche Industrieanlagenbau GmbH', 'Russian aluminum company', 'World’s largest oil refining, gas and petrochemical conglomerate'], ['CNC Weld', 'BY Trade OU', 'United States Department of Commerce', 'FBI', 'HSI', 'Prosecutor-General’s Offices of the Republic of Latvia and Estonia', 'Latvian State Revenue Service', 'Estonian Tax and Customs Board', 'Latvian State Police', 'Justice Department’s Office of International Affairs', 'Task Force KleptoCapture'], ['BGFIBank DRC', 'BGFIBank Group', 'Sud Oil', 'Congo Hold-Up', 'Platform to Protect Whistleblowers in Africa', 'Mediapart', 'The Sentry', 'Congo Research Group', 'Central Bank of Congo', 'DRC’s permanent mission to the United Nations in New York', 'Gécamines', 'Electoral Commission'], ['China Railway Group', 'Sinohydro', 'Platform to Protect Whistleblowers in Africa', 'Mediapart', 'The Sentry', 'European Investigative Collaborations network', 'Congo Construction Company', 'Citibank', 'Commerzbank', 'BGFIBank DRC'], ['Democratic Republic of Congo', 'Kwanza Capital', 'Swiss-Angolan financier', 'Chinese conglomerate', 'French office of a U.S.-based law firm', 'Financial Action Task Force']] \n",
    "l2 =[['Justice Department', 'International Emergency Economic Powers Act', 'Iranian Transactions and Sanctions Regulations', 'Eastern District of Michigan', 'Homeland Security Investigations', 'U.S. Immigration and Customs Enforcements', 'Department of Commerce', 'Office of Export Enforcement', 'Office of International Affairs', 'Counterintelligence and Export Control Section of the National Security Division'], ['International Emergency Economic Powers Act', 'Iranian Transactions and Sanctions Regulations', 'Homeland Security Investigations', 'Commerce Department’s Office of Export Enforcement', 'District Court', 'Eastern District of Michigan', 'Justice Department’s National Security Division', 'Criminal Division’s Office of International Affairs'], ['Congress', 'Department of Justice’s Criminal Division', 'Eastern District of Pennsylvania', 'FBI’s Philadelphia Division', 'Internal Revenue Service-Criminal Investigation', 'Department of Justice’s Office of the Inspector General', 'Educational Advancement Alliance', 'sham contracts', 'U.S. Trade Commission', 'Department of Justice’s Office of the Inspector General', 'NASA Office of Inspector General', 'Department of Commerce’s Office of Inspector General', 'Criminal Division’s Public Integrity Section', 'Criminal Division’s Organized Crime and Gang Section'], ['International Consortium of Investigative Journalists', 'Sonagol', 'Lusa news agency', 'Portuguese Securities Market Commission', 'Eurobic', 'Galp Energia', 'NOS', 'Expresso', 'BBC News', 'Banco de Fomento Angola'], ['Exem Energy BV, the Chamber of Companies', 'Amsterdam Court of Appeal', 'Dutch court'], [], ['U.S. Department of the Treasury’s Office of Foreign Assets Control', 'Treasury for Terrorism and Financial Intelligence', 'Global Magnitsky Human Rights Accountability Act', 'National Port Authority'], ['National Port Authority', 'Creative Developers Inc'], ['Liberia Anti-Corruption Commission', 'National Port Authority', 'FrontPageAfrica', 'Creative Developers Inc.', 'Global Tracking Management Service'], ['FrontPageAfrica', 'Creative Developers Inc.', 'National Port Authority', 'Global Tracking Management Service', 'Liberia Anti-Corruption Commission', 'Port of Buchanan', 'SINOTRANS', 'Flaton', 'Financial Intelligence Regulations'], ['Offices for the Eastern District of New York', 'Offices for the District of Connecticut', 'Department’s Task Force KleptoCapture', 'Justice Department', 'Eastern District of New York', 'District of Connecticut', 'U.S District Court', 'FBI', 'Nord-Deutsche Industrieanlagenbau GmbH', 'Petroleos de Venezuela S.A.', 'International Emergency Economic Powers Act', 'Export Control Reform Act', 'Justice Department’s Office of International Affairs', 'U.S. Department of Commerce', 'Italian law enforcement authorities', 'German law enforcement authorities', 'National Security Division’s Counterintelligence and Export Control Section'], ['District of Connecticut', 'CNC Weld', 'BY Trade OU', 'HSI', 'U.S. Department of Commerce', 'European union', 'Export Control Reform Act of 2018', 'Export Administration Regulations', 'Justice Department', 'U.S. Department of Commerce’s Office of Export Enforcement', 'FBI', 'Latvian State Revenue Service', 'Estonian Tax and Customs Board', 'Latvian State Police', 'Justice Department’s Office of International Affairs', 'National Security Division’s Counterintelligence and Export Control', 'Justice Department’s Task Force KleptoCapture', 'Office of the Deputy Attorney General'], ['BGFIBank DRC', 'BGFIBank Group', 'Sud Oil', 'Platform to Protect Whistleblowers in Africa', 'Mediapart', 'The Sentry', 'European Investigative Collaborations', 'Congo Research Group', 'Central Bank of Congo', 'United Nations', 'Gécamines', 'Congo Hold-up consortium'], ['China Railway Group', 'Sinohydro', 'Platform to Protect Whistleblowers in Africa', 'Mediapart', 'The Sentry', 'European Investigative Collaborations', 'BGFIBank DRC', 'Sicomines', 'Congo Construction Company', 'Citibank', 'Commerzbank'], ['Kwanza Capital', 'The Sentry', 'Financial Action Task Force']]"
   ]
  },
  {
   "cell_type": "code",
   "execution_count": null,
   "id": "dcc62bfb-7847-44f1-bc44-4d930d0a2ac7",
   "metadata": {},
   "outputs": [],
   "source": []
  },
  {
   "cell_type": "code",
   "execution_count": 29,
   "id": "e005e368-f7dd-41d6-8e45-20f1f6ca632e",
   "metadata": {},
   "outputs": [],
   "source": [
    "def calculate_f1_score(list1, list2):\n",
    "    #convert list of lists to string in order to calculate score \n",
    "    nested_strings = [', '.join(map(str, sublist)) for sublist in list1]\n",
    "    print(nested_strings)\n",
    "    text1 = ', '.join(nested_strings)\n",
    "    \n",
    "    nested_strings = [', '.join(map(str, sublist)) for sublist in list2]\n",
    "    text2 = ', '.join(nested_strings)\n",
    "    \n",
    "    words1 = set(text1.lower().split())\n",
    "    words2 = set(text2.lower().split())\n",
    "\n",
    "    # Calculate intersection (common words)\n",
    "    common_words = words1.intersection(words2)\n",
    "\n",
    "    # Calculate precision, recall, and F1 score\n",
    "    precision = len(common_words) / len(words1)\n",
    "    recall = len(common_words) / len(words2)\n",
    "\n",
    "    if precision + recall == 0:\n",
    "        f1_score = 0\n",
    "    else:\n",
    "        f1_score = 2 * (precision * recall) / (precision + recall)\n",
    "\n",
    "    acc=\"-\"\n",
    "    return acc, f1_score , precision , recall"
   ]
  },
  {
   "cell_type": "code",
   "execution_count": 30,
   "id": "604c1612-9b17-4afa-917a-8370e6da4b4c",
   "metadata": {},
   "outputs": [
    {
     "name": "stdout",
     "output_type": "stream",
     "text": [
      "['Justice Department, International Emergency Economic Powers Act, Iranian Transactions and Sanctions Regulations, United States Department of Commerce, Homeland Security Investigations, Office of Export Enforcement, Counterintelligence and Export Control Section, National Security Division, Office of International Affairs', 'International Emergency Economic Powers Act, Iranian Transactions and Sanctions Regulations, United States Department of Commerce, Homeland Security Investigations, Justice Department, Eastern District of Michigan', 'Educational Advancement Alliance, FBI, Internal Revenue Service-Criminal Investigation, Department of Justice, NASA Office of Inspector General, Department of Commerce’s Office of Inspector General', 'International Consortium of Investigative Journalists, Sonangol, Lusa news agency, Galp Energia, NOS, Eurobic, Expresso, ICIJ, Banco de Fomento Angola', 'Angolas national oil company, Chamber of Companies, Amsterdam Court of Appeal, Exem Energy BV', 'Angolan officials, Angola’s attorney general, Angolan oil company', 'Office of Foreign Assets Control, United States Department of the Treasury, Global Magnitsky Human Rights Accountability Act, National Port Authority, United States', 'National Port Authority, Creative Developers Inc, US Global Magnitsky sanctions', 'Liberia Anti-Corruption Commission, National Port Authority, Creative Developers Inc., Global Tracking Management Service, FrontPageAfrica', 'National Port Authority, Creative Developers Inc., Global Tracking Management Service, Liberia Anti-Corruption Commission, ICC', 'Department of Justice, U.S. Attorneys’ Offices, Department’s Task Force KleptoCapture, FBI, United States, Petroleos de Venezuela S.A., Nord-Deutsche Industrieanlagenbau GmbH, Russian aluminum company, World’s largest oil refining, gas and petrochemical conglomerate', 'CNC Weld, BY Trade OU, United States Department of Commerce, FBI, HSI, Prosecutor-General’s Offices of the Republic of Latvia and Estonia, Latvian State Revenue Service, Estonian Tax and Customs Board, Latvian State Police, Justice Department’s Office of International Affairs, Task Force KleptoCapture', 'BGFIBank DRC, BGFIBank Group, Sud Oil, Congo Hold-Up, Platform to Protect Whistleblowers in Africa, Mediapart, The Sentry, Congo Research Group, Central Bank of Congo, DRC’s permanent mission to the United Nations in New York, Gécamines, Electoral Commission', 'China Railway Group, Sinohydro, Platform to Protect Whistleblowers in Africa, Mediapart, The Sentry, European Investigative Collaborations network, Congo Construction Company, Citibank, Commerzbank, BGFIBank DRC', 'Democratic Republic of Congo, Kwanza Capital, Swiss-Angolan financier, Chinese conglomerate, French office of a U.S.-based law firm, Financial Action Task Force']\n"
     ]
    },
    {
     "data": {
      "text/plain": [
       "('-', 0.7531806615776082, 0.7708333333333334, 0.736318407960199)"
      ]
     },
     "execution_count": 30,
     "metadata": {},
     "output_type": "execute_result"
    }
   ],
   "source": [
    "calculate_f1_score(l1,l2)"
   ]
  },
  {
   "cell_type": "code",
   "execution_count": 103,
   "id": "c69c457a-0e72-4c91-a780-b1917bfebc59",
   "metadata": {},
   "outputs": [
    {
     "data": {
      "text/plain": [
       "(0.6734668235909727, 0.7303232659938942, 0.6652523850035682)"
      ]
     },
     "execution_count": 103,
     "metadata": {},
     "output_type": "execute_result"
    }
   ],
   "source": [
    "func(l1,l2)"
   ]
  },
  {
   "cell_type": "code",
   "execution_count": 37,
   "id": "b74b78c6-b9cb-4162-99e3-bec87589fd1a",
   "metadata": {},
   "outputs": [
    {
     "name": "stdout",
     "output_type": "stream",
     "text": [
      "Defaulting to user installation because normal site-packages is not writeable\n",
      "Requirement already satisfied: Levenshtein in /home/kpanag/.local/lib/python3.10/site-packages (0.25.1)\n",
      "Requirement already satisfied: rapidfuzz<4.0.0,>=3.8.0 in /home/kpanag/.local/lib/python3.10/site-packages (from Levenshtein) (3.9.3)\n"
     ]
    }
   ],
   "source": [
    "!pip install Levenshtein\n",
    "import Levenshtein"
   ]
  },
  {
   "cell_type": "code",
   "execution_count": 42,
   "id": "82873a2b-473e-42bb-9ad6-897ba140245e",
   "metadata": {},
   "outputs": [
    {
     "data": {
      "text/plain": [
       "5"
      ]
     },
     "execution_count": 42,
     "metadata": {},
     "output_type": "execute_result"
    }
   ],
   "source": []
  },
  {
   "cell_type": "code",
   "execution_count": null,
   "id": "9d35d929-ebff-4f49-bdc3-6a48fbafe3ed",
   "metadata": {},
   "outputs": [],
   "source": [
    "def calculate_f1_score(text1, text2):\n",
    "    # Tokenize the texts\n",
    "    tokens1 = set(text1.split())\n",
    "    tokens2 = set(text2.split())\n",
    "\n",
    "    # Calculate True Positives (TP), False Positives (FP), and False Negatives (FN)\n",
    "    TP = len(tokens1.intersection(tokens2))\n",
    "    FP = len(tokens1 - tokens2)\n",
    "    FN = len(tokens2 - tokens1)\n",
    "\n",
    "    # Calculate Precision\n",
    "    precision = TP / (TP + FP) if (TP + FP) > 0 else 0\n",
    "    \n",
    "    # Calculate Recall\n",
    "    recall = TP / (TP + FN) if (TP + FN) > 0 else 0\n",
    "    \n",
    "    # Calculate F1 Score\n",
    "    if precision + recall == 0:\n",
    "        return 0.0\n",
    "    f1_score = 2 * (precision * recall) / (precision + recall)\n",
    "    \n",
    "    return f1_score\n",
    "\n",
    "# Example usage\n",
    "text1 = \"this is a sample text\"\n",
    "text2 = \"this text is a sample\"\n",
    "\n",
    "f1 = calculate_f1_score(text1, text2)\n",
    "print(f\"The F1 score is: {f1}\")\n"
   ]
  },
  {
   "cell_type": "code",
   "execution_count": 13,
   "id": "44fbd56e-15e9-4675-b4cd-4dc7a2afba96",
   "metadata": {},
   "outputs": [],
   "source": [
    "import ollama"
   ]
  },
  {
   "cell_type": "code",
   "execution_count": 16,
   "id": "1060d7ef-9b57-4c13-a3b6-afda9b3a9b93",
   "metadata": {},
   "outputs": [],
   "source": [
    "stream = ollama.chat(\n",
    "        model='mistral',\n",
    "        stream=True\n",
    "    )\n",
    "response = ''\n",
    "for chunk in stream:\n",
    "    message_content = chunk['message']['content']\n",
    "    response += message_content"
   ]
  },
  {
   "cell_type": "code",
   "execution_count": 2,
   "id": "3f2c80bc-1cf7-4270-aff2-e03e01f4d2ad",
   "metadata": {},
   "outputs": [
    {
     "data": {
      "text/plain": [
       "37.903225806451616"
      ]
     },
     "execution_count": 2,
     "metadata": {},
     "output_type": "execute_result"
    }
   ],
   "source": []
  },
  {
   "cell_type": "code",
   "execution_count": null,
   "id": "7987579a-b7e4-4cf9-bc41-63c3e568ddfe",
   "metadata": {},
   "outputs": [],
   "source": []
  },
  {
   "cell_type": "code",
   "execution_count": null,
   "id": "16c02c45-ae35-4282-830b-588b29a147cb",
   "metadata": {},
   "outputs": [],
   "source": []
  },
  {
   "cell_type": "code",
   "execution_count": null,
   "id": "9b007af4-9b22-4219-af78-7a1d6f87000d",
   "metadata": {},
   "outputs": [],
   "source": []
  }
 ],
 "metadata": {
  "kernelspec": {
   "display_name": "Python 3 (ipykernel)",
   "language": "python",
   "name": "python3"
  },
  "language_info": {
   "codemirror_mode": {
    "name": "ipython",
    "version": 3
   },
   "file_extension": ".py",
   "mimetype": "text/x-python",
   "name": "python",
   "nbconvert_exporter": "python",
   "pygments_lexer": "ipython3",
   "version": "3.10.12"
  }
 },
 "nbformat": 4,
 "nbformat_minor": 5
}
