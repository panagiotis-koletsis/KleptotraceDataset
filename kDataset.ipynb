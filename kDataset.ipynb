{
 "cells": [
  {
   "cell_type": "code",
   "execution_count": 38,
   "id": "849a2dbe04d37968",
   "metadata": {
    "ExecuteTime": {
     "end_time": "2024-06-05T13:11:56.331496Z",
     "start_time": "2024-06-05T13:11:56.009371Z"
    }
   },
   "outputs": [],
   "source": [
    "from langchain_community.llms.ollama import Ollama\n",
    "from langchain.prompts import ChatPromptTemplate\n",
    "import pandas as pd"
   ]
  },
  {
   "cell_type": "code",
   "execution_count": null,
   "id": "61bbfe2c-c37b-4aec-8f10-28ba29838e69",
   "metadata": {},
   "outputs": [],
   "source": []
  },
  {
   "cell_type": "code",
   "execution_count": 15,
   "id": "68d91fb8fd41aee1",
   "metadata": {
    "ExecuteTime": {
     "end_time": "2024-06-05T12:41:50.449491Z",
     "start_time": "2024-06-05T12:41:50.446616Z"
    }
   },
   "outputs": [],
   "source": [
    "import json\n",
    "with open('/home/kpanag/Downloads/Kleptotrace Dataset.json') as f:\n",
    "    j=json.load(f)"
   ]
  },
  {
   "cell_type": "code",
   "execution_count": 27,
   "id": "initial_id",
   "metadata": {
    "ExecuteTime": {
     "end_time": "2024-06-05T12:49:46.578387Z",
     "start_time": "2024-06-05T12:49:46.576335Z"
    }
   },
   "outputs": [
    {
     "name": "stdout",
     "output_type": "stream",
     "text": [
      "1\n",
      "2\n",
      "3\n",
      "4\n",
      "5\n",
      "6\n",
      "7\n",
      "8\n",
      "9\n",
      "10\n",
      "11\n",
      "12\n",
      "13\n",
      "14\n",
      "15\n"
     ]
    }
   ],
   "source": [
    "for i in range(len(j['dataset'])):\n",
    "    print(j['dataset'][i]['article_id'])"
   ]
  },
  {
   "cell_type": "code",
   "execution_count": 32,
   "id": "50ea48b7b3775f1c",
   "metadata": {
    "ExecuteTime": {
     "end_time": "2024-06-05T13:05:49.872711Z",
     "start_time": "2024-06-05T13:05:49.870079Z"
    }
   },
   "outputs": [
    {
     "data": {
      "text/plain": [
       "['Isabel dos Santos', 'Hélder Pitta Grós']"
      ]
     },
     "execution_count": 32,
     "metadata": {},
     "output_type": "execute_result"
    }
   ],
   "source": [
    "j['dataset'][5]['name_entities']\n",
    "#[item[\"title\"] for item in j['dataset']]"
   ]
  },
  {
   "cell_type": "code",
   "execution_count": 33,
   "id": "b906949a3b6092c9",
   "metadata": {
    "ExecuteTime": {
     "end_time": "2024-06-05T13:05:54.864458Z",
     "start_time": "2024-06-05T13:05:54.861785Z"
    }
   },
   "outputs": [
    {
     "data": {
      "text/plain": [
       "'Isabel dos Santos, Africa’s richest woman and the daughter of Angola’s former president, is set to be charged with committing crimes to enrich herself, after an investigation into embezzlement of millions of dollars from a state oil company she once headed, Angolan officials said.\\nAngola’s attorney general, Hélder Pitta Grós, said on late Wednesday that Ms. dos Santos would be charged with “money laundering, influence peddling, harmful management” and “forgery of documents, among other economic crimes” committed when she ran the oil company.\\n“I can say that from the investigation we conducted, we will now move to criminal charges,” Mr. Pitta Grós said, speaking at a news conference in Luanda, the country’s capital.\\n'"
      ]
     },
     "execution_count": 33,
     "metadata": {},
     "output_type": "execute_result"
    }
   ],
   "source": [
    "j['dataset'][5]['text']"
   ]
  },
  {
   "cell_type": "code",
   "execution_count": 72,
   "id": "f099c0d6e2233986",
   "metadata": {
    "ExecuteTime": {
     "end_time": "2024-06-05T13:34:49.571439Z",
     "start_time": "2024-06-05T13:34:49.569348Z"
    }
   },
   "outputs": [],
   "source": [
    "PROMPT_TEMPLATE = \"\"\"\n",
    "You are an extremely careful and powerful name entity recognition agent, specialized on people-individuals-person!\n",
    "your task is to extract all the people mentioned in the text even if they are not important! You need to do it twice in order to have extract as many\n",
    "as possible.At the end you will provide a JSON list containing all the mentioned people ONLY THEIR NAMES. \n",
    " example ['John Doe','Maria Smith']\n",
    "Your final answer should be the list you concluded its correct!\n",
    "KEEP ONLY THE TEXT BETWEEN []\n",
    "---\n",
    "\n",
    "{context}\n",
    "\n",
    "---\n",
    "\n",
    "\"\"\""
   ]
  },
  {
   "cell_type": "code",
   "execution_count": 73,
   "id": "43311ba4c6d34c34",
   "metadata": {
    "ExecuteTime": {
     "end_time": "2024-06-05T13:34:52.276051Z",
     "start_time": "2024-06-05T13:34:52.274163Z"
    }
   },
   "outputs": [],
   "source": [
    " prompt_template = ChatPromptTemplate.from_template(PROMPT_TEMPLATE)\n",
    " prompt = prompt_template.format(context=j['dataset'][5]['text'])"
   ]
  },
  {
   "cell_type": "code",
   "execution_count": 74,
   "id": "c6175cda73ba3922",
   "metadata": {
    "ExecuteTime": {
     "end_time": "2024-06-05T13:34:53.812835Z",
     "start_time": "2024-06-05T13:34:53.810688Z"
    }
   },
   "outputs": [
    {
     "name": "stdout",
     "output_type": "stream",
     "text": [
      "Human: \n",
      "You are an extremely careful and powerful name entity recognition agent, specialized on people-individuals-person!\n",
      "your task is to extract all the people mentioned in the text even if they are not important! You need to do it twice in order to have extract as many\n",
      "as possible.At the end you will provide a JSON list containing all the mentioned people ONLY THEIR NAMES. \n",
      " example ['John Doe','Maria Smith']\n",
      "Your final answer should be the list you concluded its correct!\n",
      "KEEP ONLY THE TEXT BETWEEN []\n",
      "---\n",
      "\n",
      "Isabel dos Santos, Africa’s richest woman and the daughter of Angola’s former president, is set to be charged with committing crimes to enrich herself, after an investigation into embezzlement of millions of dollars from a state oil company she once headed, Angolan officials said.\n",
      "Angola’s attorney general, Hélder Pitta Grós, said on late Wednesday that Ms. dos Santos would be charged with “money laundering, influence peddling, harmful management” and “forgery of documents, among other economic crimes” committed when she ran the oil company.\n",
      "“I can say that from the investigation we conducted, we will now move to criminal charges,” Mr. Pitta Grós said, speaking at a news conference in Luanda, the country’s capital.\n",
      "\n",
      "\n",
      "---\n",
      "\n",
      "\n"
     ]
    }
   ],
   "source": [
    "print(prompt)"
   ]
  },
  {
   "cell_type": "code",
   "execution_count": 75,
   "id": "36b22c44dfe3804e",
   "metadata": {
    "ExecuteTime": {
     "end_time": "2024-06-05T13:34:55.827477Z",
     "start_time": "2024-06-05T13:34:55.281924Z"
    }
   },
   "outputs": [],
   "source": [
    "model = Ollama(model=\"llama3:8b\")\n",
    "response_text = model.invoke(prompt)"
   ]
  },
  {
   "cell_type": "code",
   "execution_count": 76,
   "id": "ffa8ecf07b8253a3",
   "metadata": {
    "ExecuteTime": {
     "end_time": "2024-06-05T13:34:57.628626Z",
     "start_time": "2024-06-05T13:34:57.626213Z"
    }
   },
   "outputs": [
    {
     "name": "stdout",
     "output_type": "stream",
     "text": [
      "[\n",
      "\"Isabel dos Santos\",\n",
      "\"Hélder Pitta Grós\"\n",
      "]\n"
     ]
    }
   ],
   "source": [
    "print(response_text)"
   ]
  },
  {
   "cell_type": "code",
   "execution_count": 82,
   "id": "67d2e0b2a1419b25",
   "metadata": {
    "ExecuteTime": {
     "end_time": "2024-06-05T13:53:54.138052Z",
     "start_time": "2024-06-05T13:53:54.089966Z"
    }
   },
   "outputs": [
    {
     "ename": "JSONDecodeError",
     "evalue": "Expecting value: line 4 column 1 (char 44)",
     "output_type": "error",
     "traceback": [
      "\u001b[0;31m---------------------------------------------------------------------------\u001b[0m",
      "\u001b[0;31mJSONDecodeError\u001b[0m                           Traceback (most recent call last)",
      "Cell \u001b[0;32mIn[82], line 3\u001b[0m\n\u001b[1;32m      1\u001b[0m \u001b[38;5;28;01mimport\u001b[39;00m \u001b[38;5;21;01mjson\u001b[39;00m\n\u001b[0;32m----> 3\u001b[0m names_list \u001b[38;5;241m=\u001b[39m \u001b[43mjson\u001b[49m\u001b[38;5;241;43m.\u001b[39;49m\u001b[43mloads\u001b[49m\u001b[43m(\u001b[49m\u001b[43mresponse_text\u001b[49m\u001b[43m)\u001b[49m\n\u001b[1;32m      5\u001b[0m \u001b[38;5;66;03m# Print the list to verify\u001b[39;00m\n\u001b[1;32m      6\u001b[0m \u001b[38;5;28mprint\u001b[39m(names_list)\n",
      "File \u001b[0;32m/usr/lib/python3.9/json/__init__.py:346\u001b[0m, in \u001b[0;36mloads\u001b[0;34m(s, cls, object_hook, parse_float, parse_int, parse_constant, object_pairs_hook, **kw)\u001b[0m\n\u001b[1;32m    341\u001b[0m     s \u001b[38;5;241m=\u001b[39m s\u001b[38;5;241m.\u001b[39mdecode(detect_encoding(s), \u001b[38;5;124m'\u001b[39m\u001b[38;5;124msurrogatepass\u001b[39m\u001b[38;5;124m'\u001b[39m)\n\u001b[1;32m    343\u001b[0m \u001b[38;5;28;01mif\u001b[39;00m (\u001b[38;5;28mcls\u001b[39m \u001b[38;5;129;01mis\u001b[39;00m \u001b[38;5;28;01mNone\u001b[39;00m \u001b[38;5;129;01mand\u001b[39;00m object_hook \u001b[38;5;129;01mis\u001b[39;00m \u001b[38;5;28;01mNone\u001b[39;00m \u001b[38;5;129;01mand\u001b[39;00m\n\u001b[1;32m    344\u001b[0m         parse_int \u001b[38;5;129;01mis\u001b[39;00m \u001b[38;5;28;01mNone\u001b[39;00m \u001b[38;5;129;01mand\u001b[39;00m parse_float \u001b[38;5;129;01mis\u001b[39;00m \u001b[38;5;28;01mNone\u001b[39;00m \u001b[38;5;129;01mand\u001b[39;00m\n\u001b[1;32m    345\u001b[0m         parse_constant \u001b[38;5;129;01mis\u001b[39;00m \u001b[38;5;28;01mNone\u001b[39;00m \u001b[38;5;129;01mand\u001b[39;00m object_pairs_hook \u001b[38;5;129;01mis\u001b[39;00m \u001b[38;5;28;01mNone\u001b[39;00m \u001b[38;5;129;01mand\u001b[39;00m \u001b[38;5;129;01mnot\u001b[39;00m kw):\n\u001b[0;32m--> 346\u001b[0m     \u001b[38;5;28;01mreturn\u001b[39;00m \u001b[43m_default_decoder\u001b[49m\u001b[38;5;241;43m.\u001b[39;49m\u001b[43mdecode\u001b[49m\u001b[43m(\u001b[49m\u001b[43ms\u001b[49m\u001b[43m)\u001b[49m\n\u001b[1;32m    347\u001b[0m \u001b[38;5;28;01mif\u001b[39;00m \u001b[38;5;28mcls\u001b[39m \u001b[38;5;129;01mis\u001b[39;00m \u001b[38;5;28;01mNone\u001b[39;00m:\n\u001b[1;32m    348\u001b[0m     \u001b[38;5;28mcls\u001b[39m \u001b[38;5;241m=\u001b[39m JSONDecoder\n",
      "File \u001b[0;32m/usr/lib/python3.9/json/decoder.py:337\u001b[0m, in \u001b[0;36mJSONDecoder.decode\u001b[0;34m(self, s, _w)\u001b[0m\n\u001b[1;32m    332\u001b[0m \u001b[38;5;28;01mdef\u001b[39;00m \u001b[38;5;21mdecode\u001b[39m(\u001b[38;5;28mself\u001b[39m, s, _w\u001b[38;5;241m=\u001b[39mWHITESPACE\u001b[38;5;241m.\u001b[39mmatch):\n\u001b[1;32m    333\u001b[0m \u001b[38;5;250m    \u001b[39m\u001b[38;5;124;03m\"\"\"Return the Python representation of ``s`` (a ``str`` instance\u001b[39;00m\n\u001b[1;32m    334\u001b[0m \u001b[38;5;124;03m    containing a JSON document).\u001b[39;00m\n\u001b[1;32m    335\u001b[0m \n\u001b[1;32m    336\u001b[0m \u001b[38;5;124;03m    \"\"\"\u001b[39;00m\n\u001b[0;32m--> 337\u001b[0m     obj, end \u001b[38;5;241m=\u001b[39m \u001b[38;5;28;43mself\u001b[39;49m\u001b[38;5;241;43m.\u001b[39;49m\u001b[43mraw_decode\u001b[49m\u001b[43m(\u001b[49m\u001b[43ms\u001b[49m\u001b[43m,\u001b[49m\u001b[43m \u001b[49m\u001b[43midx\u001b[49m\u001b[38;5;241;43m=\u001b[39;49m\u001b[43m_w\u001b[49m\u001b[43m(\u001b[49m\u001b[43ms\u001b[49m\u001b[43m,\u001b[49m\u001b[43m \u001b[49m\u001b[38;5;241;43m0\u001b[39;49m\u001b[43m)\u001b[49m\u001b[38;5;241;43m.\u001b[39;49m\u001b[43mend\u001b[49m\u001b[43m(\u001b[49m\u001b[43m)\u001b[49m\u001b[43m)\u001b[49m\n\u001b[1;32m    338\u001b[0m     end \u001b[38;5;241m=\u001b[39m _w(s, end)\u001b[38;5;241m.\u001b[39mend()\n\u001b[1;32m    339\u001b[0m     \u001b[38;5;28;01mif\u001b[39;00m end \u001b[38;5;241m!=\u001b[39m \u001b[38;5;28mlen\u001b[39m(s):\n",
      "File \u001b[0;32m/usr/lib/python3.9/json/decoder.py:355\u001b[0m, in \u001b[0;36mJSONDecoder.raw_decode\u001b[0;34m(self, s, idx)\u001b[0m\n\u001b[1;32m    353\u001b[0m     obj, end \u001b[38;5;241m=\u001b[39m \u001b[38;5;28mself\u001b[39m\u001b[38;5;241m.\u001b[39mscan_once(s, idx)\n\u001b[1;32m    354\u001b[0m \u001b[38;5;28;01mexcept\u001b[39;00m \u001b[38;5;167;01mStopIteration\u001b[39;00m \u001b[38;5;28;01mas\u001b[39;00m err:\n\u001b[0;32m--> 355\u001b[0m     \u001b[38;5;28;01mraise\u001b[39;00m JSONDecodeError(\u001b[38;5;124m\"\u001b[39m\u001b[38;5;124mExpecting value\u001b[39m\u001b[38;5;124m\"\u001b[39m, s, err\u001b[38;5;241m.\u001b[39mvalue) \u001b[38;5;28;01mfrom\u001b[39;00m \u001b[38;5;28;01mNone\u001b[39;00m\n\u001b[1;32m    356\u001b[0m \u001b[38;5;28;01mreturn\u001b[39;00m obj, end\n",
      "\u001b[0;31mJSONDecodeError\u001b[0m: Expecting value: line 4 column 1 (char 44)"
     ]
    }
   ],
   "source": [
    "import json\n",
    "\n",
    "names_list = json.loads(response_text)\n",
    "\n",
    "# Print the list to verify\n",
    "print(names_list)\n"
   ]
  },
  {
   "cell_type": "code",
   "execution_count": 83,
   "id": "470fb3ec187d0519",
   "metadata": {
    "ExecuteTime": {
     "end_time": "2024-06-05T14:39:06.134615Z",
     "start_time": "2024-06-05T14:39:06.132506Z"
    }
   },
   "outputs": [],
   "source": [
    "text =\"\"\"After analyzing the text, I extracted the following people mentioned:\n",
    "\n",
    "\n",
    "    John C. Demers\n",
    "\n",
    "    Matthew Schneider\n",
    "\n",
    "    Vance R. Callender\n",
    "\n",
    "    Dan Clutch\n",
    "\n",
    "    Arash Yousefi Jam (also known as Arash Yousefijam)\n",
    "\n",
    "    Amin Yousefi Jam (also known as Amin Yousefijam)\n",
    "\n",
    "    Abdollah Momeni Roustani (also known as Abdollah Momeni, Ab Momeni, and Amir Amiri)\n",
    "\n",
    "    Hank Moon\n",
    "\n",
    "    Adam Barry\n",
    "\n",
    "\n",
    "Here is the JSON list containing only their names:\n",
    "\n",
    "[\n",
    "\"John C. Demers\",\n",
    "\"Matthew Schneider\",\n",
    "\"Vance R. Callender\",\n",
    "\"Dan Clutch\",\n",
    "\"Arash Yousefi Jam\",\n",
    "\"Amin Yousefi Jam\",\n",
    "\"Abdollah Momeni Roustani\",\n",
    "\"Hank Moon\",\n",
    "\"Adam Barry\"\n",
    "] \"\"\""
   ]
  },
  {
   "cell_type": "code",
   "execution_count": null,
   "id": "9333f8f0755edba0",
   "metadata": {},
   "outputs": [],
   "source": []
  },
  {
   "cell_type": "code",
   "execution_count": 84,
   "id": "4187b7c422538925",
   "metadata": {
    "ExecuteTime": {
     "end_time": "2024-06-05T14:39:13.920118Z",
     "start_time": "2024-06-05T14:39:13.917783Z"
    }
   },
   "outputs": [
    {
     "name": "stdout",
     "output_type": "stream",
     "text": [
      "['John C. Demers', 'Matthew Schneider', 'Vance R. Callender', 'Dan Clutch', 'Arash Yousefi Jam', 'Amin Yousefi Jam', 'Abdollah Momeni Roustani', 'Hank Moon', 'Adam Barry']\n"
     ]
    }
   ],
   "source": [
    "start_index = text.find('[')\n",
    "end_index = text.find(']') + 1\n",
    "\n",
    "# Extract the JSON list as a substring\n",
    "json_list_str = text[start_index:end_index]\n",
    "\n",
    "# Convert the JSON list string to a Python list\n",
    "import json\n",
    "names = json.loads(json_list_str)\n",
    "print(names)"
   ]
  },
  {
   "cell_type": "code",
   "execution_count": 85,
   "id": "9bbc98e801d97f84",
   "metadata": {
    "ExecuteTime": {
     "end_time": "2024-06-05T14:39:35.378326Z",
     "start_time": "2024-06-05T14:39:35.376046Z"
    }
   },
   "outputs": [
    {
     "data": {
      "text/plain": [
       "'John C. Demers'"
      ]
     },
     "execution_count": 85,
     "metadata": {},
     "output_type": "execute_result"
    }
   ],
   "source": [
    "names[0]"
   ]
  },
  {
   "cell_type": "code",
   "execution_count": null,
   "id": "883926aa8fde00af",
   "metadata": {},
   "outputs": [],
   "source": []
  },
  {
   "cell_type": "code",
   "execution_count": 135,
   "id": "6e20d6e9857aa4e2",
   "metadata": {
    "ExecuteTime": {
     "end_time": "2024-06-05T14:56:07.336220Z",
     "start_time": "2024-06-05T14:56:07.333991Z"
    }
   },
   "outputs": [],
   "source": [
    "l2 = [\"test\",\"t2\"]"
   ]
  },
  {
   "cell_type": "code",
   "execution_count": 136,
   "id": "d5388780761ca7d3",
   "metadata": {
    "ExecuteTime": {
     "end_time": "2024-06-05T14:56:07.671436Z",
     "start_time": "2024-06-05T14:56:07.669299Z"
    }
   },
   "outputs": [],
   "source": [
    "l1=[\n",
    "[\"Adam Barry\",\n",
    "\"Adam Barry2\"\n",
    "]]"
   ]
  },
  {
   "cell_type": "code",
   "execution_count": 137,
   "id": "6fa1f1245af50230",
   "metadata": {
    "ExecuteTime": {
     "end_time": "2024-06-05T14:56:08.304245Z",
     "start_time": "2024-06-05T14:56:08.302268Z"
    }
   },
   "outputs": [],
   "source": [
    "l1.append(l2)"
   ]
  },
  {
   "cell_type": "code",
   "execution_count": 140,
   "id": "89587b0371ead1eb",
   "metadata": {
    "ExecuteTime": {
     "end_time": "2024-06-05T14:56:17.329902Z",
     "start_time": "2024-06-05T14:56:17.327779Z"
    }
   },
   "outputs": [
    {
     "name": "stdout",
     "output_type": "stream",
     "text": [
      "['Adam Barry', 'Adam Barry2']\n"
     ]
    }
   ],
   "source": [
    "print(l1[0])"
   ]
  },
  {
   "cell_type": "code",
   "execution_count": 1,
   "id": "e0041510-958d-4599-a509-de2b2896813d",
   "metadata": {},
   "outputs": [],
   "source": [
    "text = \"\"\"My name is panos[[ \"\"\""
   ]
  },
  {
   "cell_type": "code",
   "execution_count": 4,
   "id": "5fc705c2dbd7c86f",
   "metadata": {
    "ExecuteTime": {
     "end_time": "2024-06-05T14:47:13.142038Z",
     "start_time": "2024-06-05T14:47:13.139588Z"
    }
   },
   "outputs": [],
   "source": [
    "text = text.replace(\"[[\", \"[\")"
   ]
  },
  {
   "cell_type": "code",
   "execution_count": 5,
   "id": "d4119810-efb7-4a40-8ba3-3c144407b8df",
   "metadata": {},
   "outputs": [
    {
     "name": "stdout",
     "output_type": "stream",
     "text": [
      "My name is panos[ \n"
     ]
    }
   ],
   "source": [
    "print(text)"
   ]
  },
  {
   "cell_type": "code",
   "execution_count": 7,
   "id": "201d5046-9fd3-44eb-a1d2-cdf586fa1357",
   "metadata": {},
   "outputs": [],
   "source": [
    "import json"
   ]
  },
  {
   "cell_type": "code",
   "execution_count": 20,
   "id": "a05feca5-3e26-4708-8bd2-d72606096942",
   "metadata": {},
   "outputs": [],
   "source": [
    "text=\"\"\"Here is the list of people mentioned in the text:\n",
    "\n",
    "['Yury Orekhov', 'Artem Uss', 'Svetlana Kuzurgasheva aka Lana Neumann', 'Timofey Telegin', 'Sergey Tulyakov', 'Juan Fernando Serrano Ponce aka Juanfe Serrano', 'Juan Carlos Soto', 'Merrick B. Garland', 'Christopher Wray', 'Breon Peace']\"\"\"\n",
    "start_index = text.find('[')\n",
    "end_index = text.find(']') + 1\n",
    "# Extract the JSON list as a substring\n",
    "json_list_str = text[start_index:end_index]"
   ]
  },
  {
   "cell_type": "code",
   "execution_count": 11,
   "id": "fb9c6caf-c6bc-42a0-8d9a-6e0d9fff33c3",
   "metadata": {},
   "outputs": [
    {
     "name": "stdout",
     "output_type": "stream",
     "text": [
      "['Yury Orekhov', 'Artem Uss', 'Svetlana Kuzurgasheva aka Lana Neumann', 'Timofey Telegin', 'Sergey Tulyakov', 'Juan Fernando Serrano Ponce aka Juanfe Serrano', 'Juan Carlos Soto', 'Merrick B. Garland', 'Christopher Wray', 'Breon Peace']\n"
     ]
    }
   ],
   "source": [
    "print(json_list_str)"
   ]
  },
  {
   "cell_type": "code",
   "execution_count": 31,
   "id": "282278c8-58ac-48ea-a629-c1b23dfee713",
   "metadata": {},
   "outputs": [],
   "source": [
    "text = \"\"\"Here is the list of people mentioned in the text:\n",
    "\n",
    "1. Mr. Twehway (Managing Director of the National Port Authority)\n",
    "2. Cllr. Kanio Bai-Gbala (Deputy Co-chair of the LACC and shareholder of Creative Developers Inc.)\n",
    "3. Malcolm Scott (official at the National Port Authority)\n",
    "4. SINOTRANS representatives (Chinese company providing vessel loading services)\n",
    "\n",
    "These individuals are mentioned as being involved in the formation and operation of Creative Developers Inc., a company that was awarded contracts by the National Port Authority to provide log-handling services at the port of Buchanan.\n",
    "\n",
    "Note: The text does not provide detailed information about these individuals beyond their roles and associations with the companies and organizations mentioned.\"\"\""
   ]
  },
  {
   "cell_type": "code",
   "execution_count": 22,
   "id": "f1ad6ef1-35b7-4c01-86db-b48d13206b9f",
   "metadata": {},
   "outputs": [
    {
     "name": "stdout",
     "output_type": "stream",
     "text": [
      "Here is the list of people mentioned in the text:\n",
      "\n",
      "[\"Yury Orekhov\", \"Artem Uss\", \"Svetlana Kuzurgasheva aka Lana Neumann\", \"Timofey Telegin\", \"Sergey Tulyakov\", \"Juan Fernando Serrano Ponce aka Juanfe Serrano\", \"Juan Carlos Soto\", \"Merrick B. Garland\", \"Christopher Wray\", \"Breon Peace\"]\n"
     ]
    }
   ],
   "source": [
    "if text.find(\"'\"):\n",
    "        text = text.replace(\"'\", '\"')\n",
    "\n",
    "print(text)"
   ]
  },
  {
   "cell_type": "code",
   "execution_count": 44,
   "id": "46781a21-4271-42d2-ae27-825cbb11dcfa",
   "metadata": {},
   "outputs": [
    {
     "name": "stdout",
     "output_type": "stream",
     "text": [
      " Based on the information provided, we can infer that Mr. Twehway is the Managing Director of the National Port Authority (NPA), which is the organization responsible for managing the port of Buchanan. Cllr. Kanio Bai-Gbala is a shareholder of Creative Developers Inc., a company that was awarded contracts by the NPA to provide log-handling services at the port. Malcolm Scott is an official at the National Port Authority, and we can assume he plays a role in the decision-making process related to contract awards. The SINOTRANS representatives are employees or officials of the Chinese company providing vessel loading services at the port of Buchanan, which may have some connection with Creative Developers Inc., as they share the same port and potentially similar areas of operation. However, without more context or additional information, these are the best inferences that can be made based on the text provided.\n"
     ]
    }
   ],
   "source": [
    "print(text)"
   ]
  },
  {
   "cell_type": "code",
   "execution_count": 43,
   "id": "09758843-42ba-45ca-be0f-1d1f90a6699f",
   "metadata": {},
   "outputs": [],
   "source": [
    "if text.find('[') == -1:  \n",
    "        model = Ollama(model=\"mistral\")\n",
    "        text = \"\"\"\n",
    "        text = model.invoke(text)"
   ]
  },
  {
   "cell_type": "code",
   "execution_count": 48,
   "id": "18b3de1c-d74a-46db-9159-5382f6d2eee7",
   "metadata": {},
   "outputs": [
    {
     "name": "stdout",
     "output_type": "stream",
     "text": [
      " sujbdidbfgp;[dfvi]\n"
     ]
    }
   ],
   "source": [
    "text = \" sujbdidbfgp;[dfvi]\"\n",
    "print(text)"
   ]
  },
  {
   "cell_type": "code",
   "execution_count": 50,
   "id": "35c388af-c0ca-4b7d-b389-a1d4bd855f1b",
   "metadata": {},
   "outputs": [],
   "source": [
    "if text.find('[') == -1:  \n",
    "    print(text)"
   ]
  },
  {
   "cell_type": "code",
   "execution_count": 41,
   "id": "c8a63ce4-3d15-444d-bacb-1d2eb1065ed9",
   "metadata": {},
   "outputs": [],
   "source": [
    "from langchain_community.llms.ollama import Ollama"
   ]
  },
  {
   "cell_type": "code",
   "execution_count": 61,
   "id": "6c768a23-2784-49d9-8666-6482e45a053f",
   "metadata": {},
   "outputs": [],
   "source": [
    "text = \"{ dffhfd} \""
   ]
  },
  {
   "cell_type": "code",
   "execution_count": 62,
   "id": "fc369224-609c-4512-bb06-6d975a142f41",
   "metadata": {},
   "outputs": [
    {
     "ename": "IndentationError",
     "evalue": "unexpected indent (2710095442.py, line 3)",
     "output_type": "error",
     "traceback": [
      "\u001b[0;36m  Cell \u001b[0;32mIn[62], line 3\u001b[0;36m\u001b[0m\n\u001b[0;31m    text = text.replace(\"{\", \" \").replace(\"}\",\" \")\u001b[0m\n\u001b[0m    ^\u001b[0m\n\u001b[0;31mIndentationError\u001b[0m\u001b[0;31m:\u001b[0m unexpected indent\n"
     ]
    }
   ],
   "source": [
    "if text.find('{' or '}'):\n",
    "    print(text)\n",
    "        text = text.replace(\"{\", \" \").replace(\"}\",\" \")"
   ]
  },
  {
   "cell_type": "code",
   "execution_count": 64,
   "id": "cd7c7752-9270-4334-a05b-34c90b5ed7db",
   "metadata": {},
   "outputs": [],
   "source": [
    "path = '/home/kpanag/Downloads/Kleptotrace Dataset.json'\n",
    "with open(path) as f:\n",
    "    j = json.load(f)"
   ]
  },
  {
   "cell_type": "code",
   "execution_count": 69,
   "id": "f7afa696-172b-477c-912e-4e23db07ef92",
   "metadata": {},
   "outputs": [
    {
     "data": {
      "text/plain": [
       "['John C. Demers',\n",
       " 'Matthew Schneider',\n",
       " 'Vance R. Callender',\n",
       " 'Dan Clutch',\n",
       " 'Arash Yousefi Jam',\n",
       " 'Amin Yousefi Jam',\n",
       " 'Abdollah Momeni Roustani',\n",
       " 'Hank Moon',\n",
       " 'Adam Barry']"
      ]
     },
     "execution_count": 69,
     "metadata": {},
     "output_type": "execute_result"
    }
   ],
   "source": [
    "j['dataset'][0]['name_entities']"
   ]
  },
  {
   "cell_type": "code",
   "execution_count": 72,
   "id": "51ca5759-e60d-47c1-924e-a9450d72db69",
   "metadata": {},
   "outputs": [
    {
     "name": "stdout",
     "output_type": "stream",
     "text": [
      "['John C. Demers', 'Matthew Schneider', 'Vance R. Callender', 'Dan Clutch', 'Arash Yousefi Jam', 'Amin Yousefi Jam', 'Abdollah Momeni Roustani', 'Hank Moon', 'Adam Barry']\n",
      "['Arash Yousefi Jam', 'Abdollah Momeni Roustani', 'Stephen J. Murphy', 'Hank Moon', 'Adam Barry']\n",
      "['Chaka Fattah Sr.', 'Herbert Vederman', 'Bonnie Bowser', 'Robert Brand', 'Karen Nicholas', 'Leslie R. Caldwell', 'Zane David Memeger', 'Edward J. Hanko', 'Akeia Conner', 'Eric L. Gibson', 'T. Patrick Martin', 'Jonathan Kravis', 'Paul L. Gray', 'Bob Dalton']\n",
      "['Isabel dos Santos', 'Helder Pitta Gros', 'Gabriela Figueredo', 'Nuno Ribeiro da Cunha', 'Carlos Saturnino', 'Mario Leite da Silva', 'Paula Oliveira', 'Sarju Raikundalia']\n",
      "['Isabel dos Santos', 'Jose Eduardo dos Santos']\n",
      "['Isabel dos Santos', 'Hélder Pitta Grós']\n",
      "['Nathaniel McGill', 'Sayma Syrenius Cephus', 'Bill Twehway', 'George Weah', 'Brian E. Nelson']\n",
      "['Bill Twehway']\n",
      "['Bill Twehway', 'Charles MacArthur D. Gull', 'Peter Twehway', 'Christian D. Brownell', 'Sidiki Fofana', 'Zarylee Gbala', 'Kanio Bai Gbala']\n",
      "['Bill Twehway', 'Peter Twehway', 'Christian D. Brownell', 'Sidiki Fofana', 'Zarylee M. Gbala', 'Kanio Bai-Gbala', 'Malcolm Scott']\n",
      "['Merrick B. Garland', 'Christopher Wray', 'Yury Orekhov', 'Artem Uss', 'Svetlana Kuzurgasheva', 'Timofey Telegin', 'Sergey Tulyakov', 'Juan Fernando Serrano Ponce', 'Juan Carlos Soto', 'Breon Peace', 'Artie McConnell', 'Scott A. Claffee']\n",
      "['Eriks Mamonovs', 'Vadims Ananics', 'Stanislav Romanyuk', 'Janis Uzbalis', 'Vanessa Roberts Avery', 'Rahul Kale', 'Konstantin Lantsman', 'Matthew Anzaldi']\n",
      "['President Joseph Kabila', 'Francis Selemani']\n",
      "['Joseph Kabila']\n",
      "['Joseph Kabila']\n"
     ]
    }
   ],
   "source": [
    "for i in range(len(j['dataset'])):\n",
    "    print(j['dataset'][i]['name_entities'])"
   ]
  },
  {
   "cell_type": "code",
   "execution_count": 74,
   "id": "9fadec2a-208d-4b13-bf45-a6e89e205be1",
   "metadata": {},
   "outputs": [],
   "source": [
    "def calculate_f1_score(text1, text2):\n",
    "    words1 = set(text1.lower().split())\n",
    "    words2 = set(text2.lower().split())\n",
    "\n",
    "    # Calculate intersection (common words)\n",
    "    common_words = words1.intersection(words2)\n",
    "\n",
    "    # Calculate precision, recall, and F1 score\n",
    "    precision = len(common_words) / len(words1)\n",
    "    recall = len(common_words) / len(words2)\n",
    "\n",
    "    if precision + recall == 0:\n",
    "        f1_score = 0\n",
    "    else:\n",
    "        f1_score = 2 * (precision * recall) / (precision + recall)\n",
    "\n",
    "    return f1_score , precision , recall"
   ]
  },
  {
   "cell_type": "code",
   "execution_count": 78,
   "id": "785d97c6-91de-4100-bf8b-066688f46719",
   "metadata": {},
   "outputs": [
    {
     "name": "stdout",
     "output_type": "stream",
     "text": [
      "F1 Score: 0 \n",
      "Presicion: 0.0 \n",
      "Recall: 0.0\n"
     ]
    }
   ],
   "source": [
    "score = calculate_f1_score(text1, text2)\n",
    "print(\"F1 Score:\", score[0],\"\\nPresicion:\",score[1],\"\\nRecall:\",score[2])"
   ]
  },
  {
   "cell_type": "code",
   "execution_count": 77,
   "id": "0c3a88ff-5b52-472e-9792-a8b1d035c87f",
   "metadata": {},
   "outputs": [],
   "source": [
    "text1 = \"dsfgh\" \n",
    "text2=\"suydbgo\""
   ]
  },
  {
   "cell_type": "code",
   "execution_count": 79,
   "id": "95aeadd1-d8bd-42f9-bb60-1f118ff36f76",
   "metadata": {},
   "outputs": [],
   "source": [
    "hardcoded_list = [1, 2, 3, 4, 5]\n"
   ]
  },
  {
   "cell_type": "code",
   "execution_count": 81,
   "id": "aa773bb4-5b2b-4a39-9a1b-e44c70a97be6",
   "metadata": {},
   "outputs": [
    {
     "name": "stdout",
     "output_type": "stream",
     "text": [
      "['apple', 'banana', 'cherry']\n",
      "apple, banana, cherry\n"
     ]
    }
   ],
   "source": [
    "my_list = ['apple', 'banana', 'cherry']\n",
    "print(my_list)\n",
    "my_string = ', '.join(my_list)\n",
    "print(my_string)"
   ]
  },
  {
   "cell_type": "code",
   "execution_count": 85,
   "id": "4b1681be-223d-4735-b781-3b099586d8c7",
   "metadata": {},
   "outputs": [
    {
     "name": "stdout",
     "output_type": "stream",
     "text": [
      "1, 2, 3, 4, 5, 1, 2, 3, 4, 5, 1, 2, 3, 4, 5, 1, 2, 3, 4, 5, 1, 2, 3, 4, 5\n"
     ]
    }
   ],
   "source": [
    "hardcoded_list = [[1, 2, 3, 4, 5], [1, 2, 3, 4, 5], [1, 2, 3, 4, 5], [1, 2, 3, 4, 5], [1, 2, 3, 4, 5]]\n",
    "\n",
    "# Convert each inner list to a string\n",
    "nested_strings = [', '.join(map(str, sublist)) for sublist in hardcoded_list]\n",
    "\n",
    "# Join the inner strings with newlines to form the final string\n",
    "result_string = ', '.join(nested_strings)\n",
    "\n",
    "print(result_string)\n"
   ]
  },
  {
   "cell_type": "code",
   "execution_count": null,
   "id": "8a319cc0-e069-47ef-aa97-264857d7d67a",
   "metadata": {},
   "outputs": [],
   "source": []
  }
 ],
 "metadata": {
  "kernelspec": {
   "display_name": "Python 3 (ipykernel)",
   "language": "python",
   "name": "python3"
  },
  "language_info": {
   "codemirror_mode": {
    "name": "ipython",
    "version": 3
   },
   "file_extension": ".py",
   "mimetype": "text/x-python",
   "name": "python",
   "nbconvert_exporter": "python",
   "pygments_lexer": "ipython3",
   "version": "3.10.12"
  }
 },
 "nbformat": 4,
 "nbformat_minor": 5
}
